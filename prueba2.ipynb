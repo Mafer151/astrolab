{
 "cells": [
  {
   "cell_type": "markdown",
   "metadata": {},
   "source": [
    "Hola Mundo, prueba 1"
   ]
  },
  {
   "cell_type": "markdown",
   "metadata": {},
   "source": [
    "inicio segunda fase"
   ]
  },
  {
   "cell_type": "markdown",
   "metadata": {},
   "source": [
    "prueba 3"
   ]
  }
 ],
 "metadata": {
  "language_info": {
   "name": "python"
  },
  "orig_nbformat": 4
 },
 "nbformat": 4,
 "nbformat_minor": 2
}
